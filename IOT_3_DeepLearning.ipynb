{
 "cells": [
  {
   "cell_type": "markdown",
   "metadata": {},
   "source": [
    "# 1. Load Library"
   ]
  },
  {
   "cell_type": "code",
   "execution_count": 114,
   "metadata": {
    "collapsed": true
   },
   "outputs": [],
   "source": [
    "import pandas as pd\n",
    "import numpy as np\n",
    "import matplotlib.pyplot as plt\n",
    "%matplotlib inline\n",
    "plt.style.use('ggplot')\n",
    "\n",
    "# Setting seed for reproducability\n",
    "np.random.seed(1234)  \n",
    "PYTHONHASHSEED = 0\n",
    "\n",
    "import keras\n",
    "from sklearn import preprocessing\n",
    "from sklearn.metrics import confusion_matrix, recall_score, precision_score\n",
    "from keras.models import Sequential\n",
    "from keras.layers import Dense, Dropout, LSTM, Activation\n",
    "\n",
    "# this is pandas table width setting\n",
    "pd.set_option('display.max_columns', None) "
   ]
  },
  {
   "cell_type": "markdown",
   "metadata": {},
   "source": [
    "# 2. Load Data"
   ]
  },
  {
   "cell_type": "code",
   "execution_count": 115,
   "metadata": {
    "collapsed": true
   },
   "outputs": [],
   "source": [
    "# load train1, test1, rul1 pickle to have a test\n",
    "\n",
    "train = pd.read_pickle('data/train.pkl')\n",
    "test = pd.read_pickle('data/test.pkl')\n",
    "\n",
    "# prepare feature list to each model\n",
    "\n",
    "feature_s = ['cycle_norm','setting1','setting2','s2','s3','s4','s7','s8','s9','s11','s12','s13','s14','s15','s17','s20','s21']\n",
    "feature = ['s1','s2','s3','s4','s5','s6','s7','s8','s9','s10','s11','s12','s13','s14','s15','s16','s17','s18','s19','s20','s21']\n",
    "feature_ts = ['cycle_norm','setting1','setting2','setting3','s1','s2','s3','s4','s5','s6','s7','s8','s9','s10','s11','s12','s13','s14','s15','s16','s17','s18','s19','s20','s21']"
   ]
  },
  {
   "cell_type": "markdown",
   "metadata": {},
   "source": [
    "### Training Data for Time Series"
   ]
  },
  {
   "cell_type": "code",
   "execution_count": 116,
   "metadata": {},
   "outputs": [
    {
     "name": "stdout",
     "output_type": "stream",
     "text": [
      "seq_array shape:  (15631, 50, 17)\n"
     ]
    }
   ],
   "source": [
    "def gen_sequence(id_df, seq_length, seq_cols):\n",
    "    data_array = id_df[seq_cols].values\n",
    "    num_elements = data_array.shape[0]\n",
    "    for start, stop in zip(range(0, num_elements-seq_length), range(seq_length, num_elements)):\n",
    "        yield data_array[start:stop, :]\n",
    "\n",
    "sequence_length = 50\n",
    "seq_gen = (list(gen_sequence(train[train['id']==id], sequence_length, feature_s)) for id in train['id'].unique())\n",
    "seq_array = np.concatenate(list(seq_gen)).astype(np.float32)\n",
    "print('seq_array shape: ',seq_array.shape)"
   ]
  },
  {
   "cell_type": "markdown",
   "metadata": {},
   "source": [
    "# 3. Regression LSTM"
   ]
  },
  {
   "cell_type": "markdown",
   "metadata": {},
   "source": [
    "### Training Label for Time Series"
   ]
  },
  {
   "cell_type": "code",
   "execution_count": 117,
   "metadata": {},
   "outputs": [
    {
     "name": "stdout",
     "output_type": "stream",
     "text": [
      "label_array shape:  (15631, 1)\n"
     ]
    }
   ],
   "source": [
    "def gen_labels(id_df, seq_length, label):\n",
    "    data_array = id_df[label].values\n",
    "    num_elements = data_array.shape[0]\n",
    "    return data_array[seq_length:num_elements, :]\n",
    "\n",
    "label_gen = [gen_labels(train[train['id']==id], sequence_length, ['rul']) for id in train['id'].unique()]\n",
    "label_array = np.concatenate(label_gen).astype(np.float32)\n",
    "print('label_array shape: ', label_array.shape)"
   ]
  },
  {
   "cell_type": "markdown",
   "metadata": {},
   "source": [
    "### Model"
   ]
  },
  {
   "cell_type": "code",
   "execution_count": 142,
   "metadata": {},
   "outputs": [
    {
     "name": "stdout",
     "output_type": "stream",
     "text": [
      "_________________________________________________________________\n",
      "Layer (type)                 Output Shape              Param #   \n",
      "=================================================================\n",
      "lstm_39 (LSTM)               (None, 50, 100)           47200     \n",
      "_________________________________________________________________\n",
      "dropout_39 (Dropout)         (None, 50, 100)           0         \n",
      "_________________________________________________________________\n",
      "lstm_40 (LSTM)               (None, 50)                30200     \n",
      "_________________________________________________________________\n",
      "dropout_40 (Dropout)         (None, 50)                0         \n",
      "_________________________________________________________________\n",
      "dense_20 (Dense)             (None, 1)                 51        \n",
      "_________________________________________________________________\n",
      "activation_20 (Activation)   (None, 1)                 0         \n",
      "=================================================================\n",
      "Total params: 77,451\n",
      "Trainable params: 77,451\n",
      "Non-trainable params: 0\n",
      "_________________________________________________________________\n",
      "None\n",
      "Train on 14849 samples, validate on 782 samples\n",
      "Epoch 1/100\n",
      " - 25s - loss: 8949.8456 - mean_absolute_error: 75.9806 - r2_keras: -1.7545e+00 - val_loss: 8415.9213 - val_mean_absolute_error: 73.3757 - val_r2_keras: -2.3549e+00\n",
      "Epoch 2/100\n",
      " - 24s - loss: 8386.0381 - mean_absolute_error: 72.6793 - r2_keras: -1.5843e+00 - val_loss: 8010.3440 - val_mean_absolute_error: 71.0132 - val_r2_keras: -2.1627e+00\n",
      "Epoch 3/100\n",
      " - 23s - loss: 7986.9014 - mean_absolute_error: 70.3680 - r2_keras: -1.4581e+00 - val_loss: 7620.4460 - val_mean_absolute_error: 68.7510 - val_r2_keras: -1.9864e+00\n",
      "Epoch 4/100\n",
      " - 25s - loss: 7604.7659 - mean_absolute_error: 68.1870 - r2_keras: -1.3430e+00 - val_loss: 7235.4631 - val_mean_absolute_error: 66.5276 - val_r2_keras: -1.8213e+00\n",
      "Epoch 5/100\n",
      " - 24s - loss: 7212.8916 - mean_absolute_error: 65.9324 - r2_keras: -1.2173e+00 - val_loss: 6858.3295 - val_mean_absolute_error: 64.3611 - val_r2_keras: -1.6698e+00\n",
      "Epoch 6/100\n",
      " - 23s - loss: 6844.0418 - mean_absolute_error: 63.8442 - r2_keras: -1.1035e+00 - val_loss: 6507.2754 - val_mean_absolute_error: 62.3557 - val_r2_keras: -1.5390e+00\n",
      "Epoch 7/100\n",
      " - 23s - loss: 6499.8893 - mean_absolute_error: 61.9203 - r2_keras: -9.9660e-01 - val_loss: 6172.9255 - val_mean_absolute_error: 60.4577 - val_r2_keras: -1.4253e+00\n",
      "Epoch 8/100\n",
      " - 24s - loss: 6172.1318 - mean_absolute_error: 60.0814 - r2_keras: -8.9736e-01 - val_loss: 5856.7121 - val_mean_absolute_error: 58.6752 - val_r2_keras: -1.3291e+00\n",
      "Epoch 9/100\n",
      " - 23s - loss: 5865.9799 - mean_absolute_error: 58.3476 - r2_keras: -8.0436e-01 - val_loss: 5559.1105 - val_mean_absolute_error: 57.0108 - val_r2_keras: -1.2505e+00\n",
      "Epoch 10/100\n",
      " - 23s - loss: 5570.2735 - mean_absolute_error: 56.7498 - r2_keras: -7.0985e-01 - val_loss: 5277.8916 - val_mean_absolute_error: 55.4521 - val_r2_keras: -1.1889e+00\n",
      "Epoch 11/100\n",
      " - 23s - loss: 5299.6729 - mean_absolute_error: 55.2593 - r2_keras: -6.2778e-01 - val_loss: 5014.2832 - val_mean_absolute_error: 54.0060 - val_r2_keras: -1.1446e+00\n",
      "Epoch 12/100\n",
      " - 23s - loss: 5050.5410 - mean_absolute_error: 53.9408 - r2_keras: -5.5279e-01 - val_loss: 4769.3838 - val_mean_absolute_error: 52.6783 - val_r2_keras: -1.1177e+00\n",
      "Epoch 13/100\n",
      " - 23s - loss: 4804.4053 - mean_absolute_error: 52.6176 - r2_keras: -4.7466e-01 - val_loss: 4542.3040 - val_mean_absolute_error: 51.4647 - val_r2_keras: -1.1080e+00\n",
      "Epoch 14/100\n",
      " - 23s - loss: 4583.3342 - mean_absolute_error: 51.4765 - r2_keras: -4.0689e-01 - val_loss: 4332.7165 - val_mean_absolute_error: 50.3627 - val_r2_keras: -1.1154e+00\n",
      "Epoch 15/100\n",
      " - 23s - loss: 4383.7888 - mean_absolute_error: 50.4318 - r2_keras: -3.4479e-01 - val_loss: 4140.6707 - val_mean_absolute_error: 49.3726 - val_r2_keras: -1.1398e+00\n",
      "Epoch 16/100\n",
      " - 23s - loss: 4202.4633 - mean_absolute_error: 49.5413 - r2_keras: -2.9023e-01 - val_loss: 3965.9890 - val_mean_absolute_error: 48.4934 - val_r2_keras: -1.1812e+00\n",
      "Epoch 17/100\n",
      " - 24s - loss: 4027.7859 - mean_absolute_error: 48.6716 - r2_keras: -2.3723e-01 - val_loss: 3811.1282 - val_mean_absolute_error: 47.7368 - val_r2_keras: -1.2385e+00\n",
      "Epoch 18/100\n",
      " - 23s - loss: 3884.9429 - mean_absolute_error: 48.0410 - r2_keras: -1.9233e-01 - val_loss: 3672.2314 - val_mean_absolute_error: 47.0836 - val_r2_keras: -1.3127e+00\n",
      "Epoch 19/100\n",
      " - 23s - loss: 3748.7795 - mean_absolute_error: 47.3965 - r2_keras: -1.4954e-01 - val_loss: 3550.9890 - val_mean_absolute_error: 46.5414 - val_r2_keras: -1.4029e+00\n",
      "Epoch 20/100\n",
      " - 23s - loss: 3636.1858 - mean_absolute_error: 46.9580 - r2_keras: -1.1715e-01 - val_loss: 3447.1247 - val_mean_absolute_error: 46.1083 - val_r2_keras: -1.5086e+00\n",
      "Epoch 21/100\n",
      " - 24s - loss: 3550.1533 - mean_absolute_error: 46.6244 - r2_keras: -8.8628e-02 - val_loss: 3362.2262 - val_mean_absolute_error: 45.7884 - val_r2_keras: -1.6262e+00\n",
      "Epoch 22/100\n",
      " - 24s - loss: 3471.1959 - mean_absolute_error: 46.3023 - r2_keras: -6.6891e-02 - val_loss: 3293.0722 - val_mean_absolute_error: 45.5690 - val_r2_keras: -1.7581e+00\n",
      "Epoch 23/100\n",
      " - 23s - loss: 3404.6252 - mean_absolute_error: 46.1670 - r2_keras: -4.4360e-02 - val_loss: 3241.2809 - val_mean_absolute_error: 45.4503 - val_r2_keras: -1.8975e+00\n",
      "Epoch 24/100\n",
      " - 23s - loss: 3362.7370 - mean_absolute_error: 46.1034 - r2_keras: -3.1327e-02 - val_loss: 3203.0730 - val_mean_absolute_error: 45.4177 - val_r2_keras: -2.0514e+00\n",
      "Epoch 25/100\n",
      " - 23s - loss: 3331.4505 - mean_absolute_error: 46.1436 - r2_keras: -2.2288e-02 - val_loss: 3182.2087 - val_mean_absolute_error: 45.4582 - val_r2_keras: -2.1866e+00\n",
      "Epoch 26/100\n",
      " - 23s - loss: 3263.2634 - mean_absolute_error: 45.2102 - r2_keras: -1.5550e-03 - val_loss: 2996.3371 - val_mean_absolute_error: 44.1272 - val_r2_keras: -1.7872e+00\n",
      "Epoch 27/100\n",
      " - 23s - loss: 2578.6735 - mean_absolute_error: 37.2275 - r2_keras: 0.2091 - val_loss: 2196.5088 - val_mean_absolute_error: 34.2720 - val_r2_keras: 0.1973\n",
      "Epoch 28/100\n",
      " - 23s - loss: 2236.5878 - mean_absolute_error: 32.7565 - r2_keras: 0.3163 - val_loss: 1882.0379 - val_mean_absolute_error: 29.0252 - val_r2_keras: 0.4227\n",
      "Epoch 29/100\n",
      " - 23s - loss: 2051.6000 - mean_absolute_error: 30.4536 - r2_keras: 0.3728 - val_loss: 1795.1673 - val_mean_absolute_error: 28.2890 - val_r2_keras: 0.4414\n",
      "Epoch 30/100\n",
      " - 23s - loss: 1887.5263 - mean_absolute_error: 28.5787 - r2_keras: 0.4223 - val_loss: 1888.5178 - val_mean_absolute_error: 31.2529 - val_r2_keras: 0.2533\n",
      "Epoch 31/100\n",
      " - 24s - loss: 1801.2420 - mean_absolute_error: 27.9968 - r2_keras: 0.4492 - val_loss: 1639.5493 - val_mean_absolute_error: 27.8980 - val_r2_keras: 0.4875\n",
      "Epoch 32/100\n",
      " - 23s - loss: 1661.1758 - mean_absolute_error: 26.2268 - r2_keras: 0.4922 - val_loss: 1635.4310 - val_mean_absolute_error: 28.6098 - val_r2_keras: 0.4128\n",
      "Epoch 33/100\n",
      " - 23s - loss: 1591.3306 - mean_absolute_error: 25.6266 - r2_keras: 0.5143 - val_loss: 1594.5358 - val_mean_absolute_error: 29.7034 - val_r2_keras: 0.2983\n",
      "Epoch 34/100\n",
      " - 23s - loss: 1489.2702 - mean_absolute_error: 24.5680 - r2_keras: 0.5455 - val_loss: 1260.1898 - val_mean_absolute_error: 21.3426 - val_r2_keras: 0.6402\n",
      "Epoch 35/100\n",
      " - 23s - loss: 1411.1505 - mean_absolute_error: 23.8202 - r2_keras: 0.5693 - val_loss: 1382.0426 - val_mean_absolute_error: 24.8115 - val_r2_keras: 0.4950\n",
      "Epoch 36/100\n",
      " - 23s - loss: 1317.0481 - mean_absolute_error: 22.7538 - r2_keras: 0.5980 - val_loss: 1205.2711 - val_mean_absolute_error: 20.9431 - val_r2_keras: 0.6616\n",
      "Epoch 37/100\n",
      " - 23s - loss: 1257.6011 - mean_absolute_error: 22.1405 - r2_keras: 0.6171 - val_loss: 1138.4825 - val_mean_absolute_error: 21.3052 - val_r2_keras: 0.6705\n",
      "Epoch 38/100\n",
      " - 23s - loss: 1200.8570 - mean_absolute_error: 21.5690 - r2_keras: 0.6342 - val_loss: 1005.9213 - val_mean_absolute_error: 19.5933 - val_r2_keras: 0.7044\n",
      "Epoch 39/100\n",
      " - 22s - loss: 1150.7831 - mean_absolute_error: 21.1711 - r2_keras: 0.6487 - val_loss: 998.4983 - val_mean_absolute_error: 20.2033 - val_r2_keras: 0.6887\n",
      "Epoch 40/100\n",
      " - 23s - loss: 1093.4504 - mean_absolute_error: 20.6507 - r2_keras: 0.6655 - val_loss: 945.7088 - val_mean_absolute_error: 18.9234 - val_r2_keras: 0.7283\n",
      "Epoch 41/100\n",
      " - 23s - loss: 1035.6627 - mean_absolute_error: 19.9894 - r2_keras: 0.6845 - val_loss: 910.2379 - val_mean_absolute_error: 19.5334 - val_r2_keras: 0.7134\n"
     ]
    },
    {
     "name": "stdout",
     "output_type": "stream",
     "text": [
      "Epoch 42/100\n",
      " - 23s - loss: 990.0174 - mean_absolute_error: 19.5593 - r2_keras: 0.6977 - val_loss: 867.0238 - val_mean_absolute_error: 18.7088 - val_r2_keras: 0.7060\n",
      "Epoch 43/100\n",
      " - 24s - loss: 969.8775 - mean_absolute_error: 19.4142 - r2_keras: 0.7039 - val_loss: 924.0018 - val_mean_absolute_error: 18.8953 - val_r2_keras: 0.7028\n",
      "Epoch 44/100\n",
      " - 23s - loss: 934.6582 - mean_absolute_error: 19.0223 - r2_keras: 0.7142 - val_loss: 855.9780 - val_mean_absolute_error: 19.6254 - val_r2_keras: 0.6710\n",
      "Epoch 45/100\n",
      " - 24s - loss: 909.9654 - mean_absolute_error: 18.8153 - r2_keras: 0.7218 - val_loss: 819.7569 - val_mean_absolute_error: 19.0516 - val_r2_keras: 0.6724\n",
      "Epoch 46/100\n",
      " - 24s - loss: 867.1851 - mean_absolute_error: 18.4087 - r2_keras: 0.7352 - val_loss: 1053.7858 - val_mean_absolute_error: 18.5979 - val_r2_keras: 0.7085\n",
      "Epoch 47/100\n",
      " - 24s - loss: 837.1513 - mean_absolute_error: 18.0089 - r2_keras: 0.7444 - val_loss: 830.4473 - val_mean_absolute_error: 18.7659 - val_r2_keras: 0.6397\n",
      "Epoch 48/100\n",
      " - 24s - loss: 818.5112 - mean_absolute_error: 17.8709 - r2_keras: 0.7506 - val_loss: 769.7627 - val_mean_absolute_error: 18.5642 - val_r2_keras: 0.6656\n",
      "Epoch 49/100\n",
      " - 23s - loss: 780.8600 - mean_absolute_error: 17.4591 - r2_keras: 0.7622 - val_loss: 757.6432 - val_mean_absolute_error: 18.4042 - val_r2_keras: 0.6638\n",
      "Epoch 50/100\n",
      " - 24s - loss: 783.9400 - mean_absolute_error: 17.6336 - r2_keras: 0.7611 - val_loss: 691.9922 - val_mean_absolute_error: 15.2692 - val_r2_keras: 0.7741\n",
      "Epoch 51/100\n",
      " - 24s - loss: 748.2120 - mean_absolute_error: 17.2265 - r2_keras: 0.7710 - val_loss: 643.1470 - val_mean_absolute_error: 15.3038 - val_r2_keras: 0.7517\n",
      "Epoch 52/100\n",
      " - 24s - loss: 738.6139 - mean_absolute_error: 16.9715 - r2_keras: 0.7750 - val_loss: 625.1942 - val_mean_absolute_error: 14.7641 - val_r2_keras: 0.7746\n",
      "Epoch 53/100\n",
      " - 25s - loss: 719.0162 - mean_absolute_error: 16.7828 - r2_keras: 0.7805 - val_loss: 691.6213 - val_mean_absolute_error: 16.1479 - val_r2_keras: 0.7651\n",
      "Epoch 54/100\n",
      " - 25s - loss: 699.2157 - mean_absolute_error: 16.5597 - r2_keras: 0.7862 - val_loss: 818.2282 - val_mean_absolute_error: 20.8231 - val_r2_keras: 0.7200\n",
      "Epoch 55/100\n",
      " - 26s - loss: 684.7497 - mean_absolute_error: 16.4628 - r2_keras: 0.7904 - val_loss: 712.4250 - val_mean_absolute_error: 17.7500 - val_r2_keras: 0.7389\n",
      "Epoch 56/100\n",
      " - 29s - loss: 671.5998 - mean_absolute_error: 16.3043 - r2_keras: 0.7947 - val_loss: 646.3169 - val_mean_absolute_error: 17.0529 - val_r2_keras: 0.6853\n",
      "Epoch 57/100\n",
      " - 25s - loss: 658.3817 - mean_absolute_error: 16.1692 - r2_keras: 0.7993 - val_loss: 710.6633 - val_mean_absolute_error: 16.9356 - val_r2_keras: 0.7080\n",
      "Epoch 58/100\n",
      " - 23s - loss: 647.8589 - mean_absolute_error: 16.0093 - r2_keras: 0.8022 - val_loss: 768.4817 - val_mean_absolute_error: 16.8371 - val_r2_keras: 0.7573\n",
      "Epoch 59/100\n",
      " - 23s - loss: 616.4439 - mean_absolute_error: 15.7191 - r2_keras: 0.8118 - val_loss: 767.3778 - val_mean_absolute_error: 15.3398 - val_r2_keras: 0.7566\n",
      "Epoch 60/100\n",
      " - 23s - loss: 614.7863 - mean_absolute_error: 15.6159 - r2_keras: 0.8117 - val_loss: 819.5716 - val_mean_absolute_error: 18.1879 - val_r2_keras: 0.6074\n",
      "Epoch 61/100\n",
      " - 24s - loss: 612.6014 - mean_absolute_error: 15.5048 - r2_keras: 0.8124 - val_loss: 903.3065 - val_mean_absolute_error: 19.2645 - val_r2_keras: 0.5658\n",
      "Epoch 62/100\n",
      " - 24s - loss: 588.9259 - mean_absolute_error: 15.2834 - r2_keras: 0.8197 - val_loss: 820.8268 - val_mean_absolute_error: 18.2244 - val_r2_keras: 0.5349\n",
      "dict_keys(['val_r2_keras', 'mean_absolute_error', 'loss', 'val_mean_absolute_error', 'r2_keras', 'val_loss'])\n"
     ]
    }
   ],
   "source": [
    "# define path to save model\n",
    "model_path = 'regression_model.h5'           \n",
    "def r2_keras(y_true, y_pred):\n",
    "    SS_res =  K.sum(K.square( y_true - y_pred ))\n",
    "    SS_tot = K.sum(K.square( y_true - K.mean(y_true) ) )\n",
    "    return ( 1 - SS_res/(SS_tot + K.epsilon()) )\n",
    "\n",
    "# input/output size\n",
    "nb_features = seq_array.shape[2]\n",
    "nb_out = label_array.shape[1]\n",
    "\n",
    "# modeling\n",
    "model = Sequential()\n",
    "model.add(LSTM(input_shape=(sequence_length, nb_features), units=100, return_sequences=True))\n",
    "model.add(Dropout(0.2))\n",
    "model.add(LSTM(units=50, return_sequences=False))\n",
    "model.add(Dropout(0.2))\n",
    "model.add(Dense(units=nb_out))\n",
    "model.add(Activation(\"linear\"))\n",
    "model.compile(loss='mean_squared_error', optimizer='rmsprop',metrics=['mae',r2_keras])\n",
    "print(model.summary())\n",
    "\n",
    "# fitting\n",
    "history = model.fit(seq_array, label_array, epochs=100, batch_size=250, validation_split=0.05, verbose=2,\n",
    "          callbacks = [keras.callbacks.EarlyStopping(monitor='val_loss', min_delta=0, patience=10, verbose=0, mode='min'),\n",
    "                       keras.callbacks.ModelCheckpoint(model_path, monitor='val_loss', save_best_only=True, mode='min', verbose=0)])\n",
    "print(history.history.keys())"
   ]
  },
  {
   "cell_type": "markdown",
   "metadata": {},
   "source": [
    "### Check Overfitting"
   ]
  },
  {
   "cell_type": "code",
   "execution_count": 143,
   "metadata": {
    "collapsed": true
   },
   "outputs": [],
   "source": [
    "def history_plot(hist1, hist2, title, ylabl, xlabl):\n",
    "    fig_acc = plt.figure(figsize=(12,4))\n",
    "    plt.plot(history.history[hist1])\n",
    "    plt.plot(history.history[hist2])\n",
    "    plt.title(title)\n",
    "    plt.ylabel(ylabl)\n",
    "    plt.xlabel(xlabl)\n",
    "    plt.legend(['train', 'test'], loc='upper left')\n",
    "    return plt"
   ]
  },
  {
   "cell_type": "code",
   "execution_count": null,
   "metadata": {},
   "outputs": [],
   "source": []
  },
  {
   "cell_type": "markdown",
   "metadata": {},
   "source": [
    "### Performance"
   ]
  },
  {
   "cell_type": "code",
   "execution_count": 146,
   "metadata": {},
   "outputs": [
    {
     "name": "stdout",
     "output_type": "stream",
     "text": [
      "\n",
      "MAE: 13.877024712256587\n",
      "\n",
      "R^2: 0.8054496281344223\n"
     ]
    }
   ],
   "source": [
    "scores = model.evaluate(seq_array, label_array, batch_size=250, verbose=2)\n",
    "print('\\nMAE: {}'.format(scores[1]))\n",
    "print('\\nR^2: {}'.format(scores[2]))\n",
    "\n",
    "y_pred = model.predict(seq_array,verbose=2, batch_size=250)\n",
    "y_true = label_array\n",
    "test_set = pd.DataFrame(y_pred)"
   ]
  },
  {
   "cell_type": "markdown",
   "metadata": {},
   "source": [
    "### Validation"
   ]
  },
  {
   "cell_type": "code",
   "execution_count": null,
   "metadata": {},
   "outputs": [],
   "source": []
  },
  {
   "cell_type": "markdown",
   "metadata": {},
   "source": [
    "# 4. Classification LSTM"
   ]
  },
  {
   "cell_type": "markdown",
   "metadata": {},
   "source": [
    "### Training Label for Time Series"
   ]
  },
  {
   "cell_type": "code",
   "execution_count": 179,
   "metadata": {},
   "outputs": [
    {
     "name": "stdout",
     "output_type": "stream",
     "text": [
      "label_array shape:  (15631, 1)\n"
     ]
    }
   ],
   "source": [
    "def gen_labels(id_df, seq_length, label):\n",
    "    data_array = id_df[label].values\n",
    "    num_elements = data_array.shape[0]\n",
    "    return data_array[seq_length:num_elements, :]\n",
    "\n",
    "label_gen = [gen_labels(train[train['id']==id], sequence_length, ['w1']) for id in train['id'].unique()]\n",
    "label_array = np.concatenate(label_gen).astype(np.float32)\n",
    "print('label_array shape: ', label_array.shape)"
   ]
  },
  {
   "cell_type": "markdown",
   "metadata": {},
   "source": [
    "### Model"
   ]
  },
  {
   "cell_type": "code",
   "execution_count": null,
   "metadata": {},
   "outputs": [],
   "source": []
  },
  {
   "cell_type": "code",
   "execution_count": null,
   "metadata": {
    "scrolled": true
   },
   "outputs": [],
   "source": []
  },
  {
   "cell_type": "code",
   "execution_count": null,
   "metadata": {
    "collapsed": true
   },
   "outputs": [],
   "source": []
  }
 ],
 "metadata": {
  "kernelspec": {
   "display_name": "Python 3",
   "language": "python",
   "name": "python3"
  },
  "language_info": {
   "codemirror_mode": {
    "name": "ipython",
    "version": 3
   },
   "file_extension": ".py",
   "mimetype": "text/x-python",
   "name": "python",
   "nbconvert_exporter": "python",
   "pygments_lexer": "ipython3",
   "version": "3.5.3"
  }
 },
 "nbformat": 4,
 "nbformat_minor": 2
}
