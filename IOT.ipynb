{
 "cells": [
  {
   "cell_type": "markdown",
   "metadata": {},
   "source": [
    "## References\n",
    "- input references here"
   ]
  },
  {
   "cell_type": "markdown",
   "metadata": {},
   "source": [
    "## Load Library"
   ]
  },
  {
   "cell_type": "code",
   "execution_count": 1,
   "metadata": {
    "collapsed": true
   },
   "outputs": [],
   "source": [
    "%matplotlib inline\n",
    "import pandas as pd\n",
    "import numpy as np\n",
    "import matplotlib.pyplot as plt; plt.rcdefaults()"
   ]
  },
  {
   "cell_type": "markdown",
   "metadata": {},
   "source": [
    "## Load & Clean Data"
   ]
  },
  {
   "cell_type": "code",
   "execution_count": 202,
   "metadata": {},
   "outputs": [],
   "source": [
    "# load all files into df, drop the last two columns which are 'na'\n",
    "allfile = [i+str(j)+'.txt' for i in ['data/'+item for item in ['train_FD00','test_FD00','RUL_FD00']] for j in range(1,4+1)]\n",
    "data = train1,train2,train3,train4, test1,test2,test3,test4, RUL1,RUL2,RUL3,RUL4\n",
    "data = [pd.read_csv(file, sep=' ', header=None) for file in allfile]\n",
    "[f.drop(f.columns[[-1, -2]], axis=1, inplace=True) for f in data[0:8]]\n",
    "header = ['id','cycle'] + ['setting'+str(i) for i in range(1,3+1)] + ['sensor'+str(j) for j in range(1,21+1)]\n",
    "for k in range(8): data[k].columns = header"
   ]
  },
  {
   "cell_type": "code",
   "execution_count": null,
   "metadata": {},
   "outputs": [],
   "source": [
    "# shape of the data\n",
    "# data dimensions\n",
    "pd.DataFrame(np.array([ [ np.shape(train1)[0], np.shape(train2)[0], np.shape(train3)[0], np.shape(train4)[0], np.shape(test1)[0], np.shape(test2)[0], np.shape(test3)[0], np.shape(test4)[0], np.shape(RUL1)[0], np.shape(RUL2)[0], np.shape(RUL3)[0], np.shape(RUL4)[0] ], \n",
    "                        [ np.shape(train1)[1], np.shape(train2)[1], np.shape(train3)[1], np.shape(train4)[1], np.shape(test1)[1], np.shape(test2)[1], np.shape(test3)[1], np.shape(test4)[1], np.shape(RUL1)[1], np.shape(RUL2)[1], np.shape(RUL3)[1], np.shape(RUL4)[1] ] ]), \n",
    "             index=['#columns', '#rows'],\n",
    "             columns=['train1', 'train2', 'train3', 'train4', 'test1', 'test2', 'test3', 'test4', 'URL1', 'URL2', 'URL3', 'URL4'])"
   ]
  },
  {
   "cell_type": "code",
   "execution_count": 217,
   "metadata": {},
   "outputs": [
    {
     "data": {
      "text/html": [
       "<div>\n",
       "<style>\n",
       "    .dataframe thead tr:only-child th {\n",
       "        text-align: right;\n",
       "    }\n",
       "\n",
       "    .dataframe thead th {\n",
       "        text-align: left;\n",
       "    }\n",
       "\n",
       "    .dataframe tbody tr th {\n",
       "        vertical-align: top;\n",
       "    }\n",
       "</style>\n",
       "<table border=\"1\" class=\"dataframe\">\n",
       "  <thead>\n",
       "    <tr style=\"text-align: right;\">\n",
       "      <th></th>\n",
       "      <th>train1</th>\n",
       "      <th>train2</th>\n",
       "      <th>train3</th>\n",
       "      <th>train4</th>\n",
       "      <th>test1</th>\n",
       "      <th>test2</th>\n",
       "      <th>test3</th>\n",
       "      <th>test4</th>\n",
       "      <th>URL1</th>\n",
       "      <th>URL2</th>\n",
       "      <th>URL3</th>\n",
       "      <th>URL4</th>\n",
       "    </tr>\n",
       "  </thead>\n",
       "  <tbody>\n",
       "    <tr>\n",
       "      <th>#columns</th>\n",
       "      <td>20631</td>\n",
       "      <td>53759</td>\n",
       "      <td>24720</td>\n",
       "      <td>61249</td>\n",
       "      <td>13096</td>\n",
       "      <td>33991</td>\n",
       "      <td>16596</td>\n",
       "      <td>41214</td>\n",
       "      <td>100</td>\n",
       "      <td>259</td>\n",
       "      <td>100</td>\n",
       "      <td>248</td>\n",
       "    </tr>\n",
       "    <tr>\n",
       "      <th>#rows</th>\n",
       "      <td>26</td>\n",
       "      <td>26</td>\n",
       "      <td>26</td>\n",
       "      <td>26</td>\n",
       "      <td>26</td>\n",
       "      <td>26</td>\n",
       "      <td>26</td>\n",
       "      <td>26</td>\n",
       "      <td>2</td>\n",
       "      <td>2</td>\n",
       "      <td>2</td>\n",
       "      <td>2</td>\n",
       "    </tr>\n",
       "  </tbody>\n",
       "</table>\n",
       "</div>"
      ],
      "text/plain": [
       "          train1  train2  train3  train4  test1  test2  test3  test4  URL1  \\\n",
       "#columns   20631   53759   24720   61249  13096  33991  16596  41214   100   \n",
       "#rows         26      26      26      26     26     26     26     26     2   \n",
       "\n",
       "          URL2  URL3  URL4  \n",
       "#columns   259   100   248  \n",
       "#rows        2     2     2  "
      ]
     },
     "execution_count": 217,
     "metadata": {},
     "output_type": "execute_result"
    }
   ],
   "source": [
    "pd.DataFrame(np.array([ [np.shape(dd)[0] for dd in data], [np.shape(ff)[1] for ff in data] ]),\n",
    "                     index=['#columns', '#rows'],\n",
    "                     columns=[string + str(h) for string in ['train','test','URL'] for h in range(1,4+1)])"
   ]
  },
  {
   "cell_type": "code",
   "execution_count": 215,
   "metadata": {},
   "outputs": [
    {
     "data": {
      "text/plain": [
       "list"
      ]
     },
     "execution_count": 215,
     "metadata": {},
     "output_type": "execute_result"
    }
   ],
   "source": [
    "type([string + str(h) for string in ['train','test','URL'] for h in range(1,4+1)])"
   ]
  },
  {
   "cell_type": "code",
   "execution_count": null,
   "metadata": {},
   "outputs": [],
   "source": []
  },
  {
   "cell_type": "code",
   "execution_count": null,
   "metadata": {},
   "outputs": [],
   "source": []
  },
  {
   "cell_type": "code",
   "execution_count": null,
   "metadata": {},
   "outputs": [],
   "source": []
  },
  {
   "cell_type": "code",
   "execution_count": null,
   "metadata": {},
   "outputs": [],
   "source": []
  },
  {
   "cell_type": "code",
   "execution_count": null,
   "metadata": {},
   "outputs": [],
   "source": []
  },
  {
   "cell_type": "code",
   "execution_count": null,
   "metadata": {
    "collapsed": true
   },
   "outputs": [],
   "source": []
  },
  {
   "cell_type": "code",
   "execution_count": null,
   "metadata": {
    "collapsed": true
   },
   "outputs": [],
   "source": []
  },
  {
   "cell_type": "code",
   "execution_count": null,
   "metadata": {
    "collapsed": true
   },
   "outputs": [],
   "source": []
  },
  {
   "cell_type": "code",
   "execution_count": null,
   "metadata": {
    "collapsed": true
   },
   "outputs": [],
   "source": []
  },
  {
   "cell_type": "code",
   "execution_count": null,
   "metadata": {
    "collapsed": true
   },
   "outputs": [],
   "source": []
  },
  {
   "cell_type": "code",
   "execution_count": null,
   "metadata": {
    "collapsed": true
   },
   "outputs": [],
   "source": []
  },
  {
   "cell_type": "code",
   "execution_count": null,
   "metadata": {
    "collapsed": true
   },
   "outputs": [],
   "source": []
  },
  {
   "cell_type": "code",
   "execution_count": null,
   "metadata": {
    "collapsed": true
   },
   "outputs": [],
   "source": []
  },
  {
   "cell_type": "code",
   "execution_count": null,
   "metadata": {
    "collapsed": true
   },
   "outputs": [],
   "source": []
  },
  {
   "cell_type": "code",
   "execution_count": null,
   "metadata": {
    "collapsed": true
   },
   "outputs": [],
   "source": []
  },
  {
   "cell_type": "code",
   "execution_count": null,
   "metadata": {
    "collapsed": true
   },
   "outputs": [],
   "source": []
  }
 ],
 "metadata": {
  "kernelspec": {
   "display_name": "Python 3",
   "language": "python",
   "name": "python3"
  },
  "language_info": {
   "codemirror_mode": {
    "name": "ipython",
    "version": 3
   },
   "file_extension": ".py",
   "mimetype": "text/x-python",
   "name": "python",
   "nbconvert_exporter": "python",
   "pygments_lexer": "ipython3",
   "version": "3.5.3"
  }
 },
 "nbformat": 4,
 "nbformat_minor": 2
}
