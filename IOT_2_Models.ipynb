{
 "cells": [
  {
   "cell_type": "markdown",
   "metadata": {},
   "source": [
    "## This is the Baseline Models Comparison and Selection"
   ]
  },
  {
   "cell_type": "markdown",
   "metadata": {},
   "source": [
    "<font size=\"6\" color=\"blue\"> <B> I. Baseline Study </B> </font> "
   ]
  },
  {
   "cell_type": "markdown",
   "metadata": {},
   "source": [
    "# 1. Load Librares"
   ]
  },
  {
   "cell_type": "code",
   "execution_count": 93,
   "metadata": {
    "collapsed": true
   },
   "outputs": [],
   "source": [
    "import pandas as pd\n",
    "import numpy as np\n",
    "import matplotlib.pyplot as plt; plt.rcdefaults()\n",
    "import warnings\n",
    "%matplotlib inline\n",
    "plt.style.use('ggplot')"
   ]
  },
  {
   "cell_type": "code",
   "execution_count": 109,
   "metadata": {
    "collapsed": true
   },
   "outputs": [],
   "source": [
    "from sklearn import linear_model\n",
    "from sklearn.tree import DecisionTreeRegressor\n",
    "from sklearn.ensemble import RandomForestRegressor\n",
    "from sklearn import model_selection\n",
    "from sklearn.metrics import explained_variance_score, mean_squared_error, mean_absolute_error, r2_score\n",
    "from sklearn import metrics\n",
    "from sklearn.model_selection import cross_val_score"
   ]
  },
  {
   "cell_type": "code",
   "execution_count": 94,
   "metadata": {
    "collapsed": true
   },
   "outputs": [],
   "source": [
    "# this is pandas table width setting\n",
    "pd.set_option('display.max_columns', None)  "
   ]
  },
  {
   "cell_type": "code",
   "execution_count": 95,
   "metadata": {
    "collapsed": true
   },
   "outputs": [],
   "source": [
    "# display pd table side by side\n",
    "from IPython.display import display_html\n",
    "def display_side_by_side(*args):\n",
    "    html_str=''\n",
    "    for df in args:\n",
    "        html_str+=df.to_html()\n",
    "    display_html(html_str.replace('table','table style=\"display:inline\"'),raw=True)"
   ]
  },
  {
   "cell_type": "markdown",
   "metadata": {},
   "source": [
    "# 2. Load the Data"
   ]
  },
  {
   "cell_type": "code",
   "execution_count": 155,
   "metadata": {
    "collapsed": true
   },
   "outputs": [],
   "source": [
    "# load train1, test1, rul1 pickle to have a test\n",
    "\n",
    "train_d = pd.read_pickle('data/train_d.pkl')\n",
    "test_d = pd.read_pickle('data/test_d.pkl')\n",
    "\n",
    "train_r = pd.read_pickle('data/train_r.pkl')\n",
    "test_r = pd.read_pickle('data/test_r.pkl')\n",
    "\n",
    "train_r_n = pd.read_pickle('data/train_r_n.pkl')\n",
    "test_r_n = pd.read_pickle('data/test_r_n.pkl')"
   ]
  },
  {
   "cell_type": "code",
   "execution_count": 170,
   "metadata": {},
   "outputs": [],
   "source": [
    "# Prepare the training / testing data (raw data)\n",
    "\n",
    "X_train_d, Y_train_d = train_d.iloc[:,2:18], train_d['rul']\n",
    "X_test_d, Y_test_d = test_d.iloc[:,2:18], test_d['rul']\n",
    "\n",
    "X_train_r, Y_train_r = train_r.iloc[:,2:18], train_r['rul']\n",
    "X_test_r, Y_test_r = test_r.iloc[:,2:18], test_r['rul']\n",
    "\n",
    "X_train_r_n, Y_train_r_n = train_r_n.iloc[:,2:18], train_r_n['rul']\n",
    "X_test_r_n, Y_test_r_n = test_r_n.iloc[:,2:18], test_r_n['rul']"
   ]
  },
  {
   "cell_type": "markdown",
   "metadata": {},
   "source": [
    "# 3. Regression"
   ]
  },
  {
   "cell_type": "markdown",
   "metadata": {},
   "source": [
    "## 3.1 BaseLine"
   ]
  },
  {
   "cell_type": "markdown",
   "metadata": {},
   "source": [
    "### Support Functions"
   ]
  },
  {
   "cell_type": "code",
   "execution_count": 171,
   "metadata": {},
   "outputs": [],
   "source": [
    "# define regression metrics calculation\n",
    "\n",
    "def get_regression_metrics(model_name, model, x_train, y_train, x_test, y_test):\n",
    "\n",
    "    model.fit(x_train, y_train.values.ravel())\n",
    "    y_pred = model.predict(x_test)\n",
    "    \n",
    "    regression_metrics = {\n",
    "        'CV explained variance':       cross_val_score(model, x_train, y_train, cv=5, scoring='explained_variance').mean(),\n",
    "        'CV root mean squared error':  (-cross_val_score(model, x_train, y_train, cv=5, scoring='neg_mean_squared_error').mean())**0.5,\n",
    "        'CV mean absolute error':      -cross_val_score(model, x_train, y_train, cv=5, scoring='neg_mean_absolute_error').mean(),\n",
    "        'CV r2 score':                 cross_val_score(model, x_train, y_train, cv=5, scoring='r2').mean()\n",
    "    }\n",
    "    df_regression_metrics = pd.DataFrame.from_dict(regression_metrics, orient='index')\n",
    "    df_regression_metrics.columns = [model_name]\n",
    "    return df_regression_metrics"
   ]
  },
  {
   "cell_type": "code",
   "execution_count": 172,
   "metadata": {
    "collapsed": true
   },
   "outputs": [],
   "source": [
    "# define feature importance plot\n",
    "\n",
    "def plot_feature_importance(model_name, model, x_train, y_train):\n",
    "    '''Plot regression feature importance (coefficients weights)\n",
    "    model (str):           model name\n",
    "    weights (array):       coefficient weights\n",
    "    f_names (list):        feature names\n",
    "    weight_type (str):     'c' for coefficient weights, o.w. is feature importance\n",
    "    returns:               plt of feature importance (coefficient weights)\n",
    "    '''\n",
    "    model.fit(x_train, y_train.values.ravel())\n",
    "    if model_name == 'DecisionTr' or model_name == 'RandomFore':\n",
    "        W = pd.DataFrame({'weights': model.feature_importances_}, x_train.columns)\n",
    "    else:\n",
    "        W = pd.DataFrame({'weights': model.coef_}, x_train.columns)        \n",
    "    W.sort_values(by='weights', ascending=True).plot(kind='barh', color='r', figsize=(12, 5))\n",
    "    label = ' feature importance' if (model_name == 'DecisionTr' or model_name == 'RandomFore') else 'coefficients'\n",
    "    plt.xlabel(model_name + label)\n",
    "    plt.show()"
   ]
  },
  {
   "cell_type": "code",
   "execution_count": 173,
   "metadata": {
    "collapsed": true
   },
   "outputs": [],
   "source": [
    "# define Grid Search Based hyper-parameter adjustment\n",
    "\n",
    "def best_model(model_name, model, x_train, y_train, x_test, params=None, score=None):\n",
    "    grid_search = model_selection.GridSearchCV(estimator=model, param_grid=params, cv=5, scoring=score, n_jobs=-1)\n",
    "    grid_search.fit(x_train, y_train)\n",
    "    y_pred = grid_search.predict(x_test)\n",
    "    if hasattr(grid_search, 'predict_proba'):\n",
    "        y_score = grid_search.predict_prob(x_test)[:,1]\n",
    "    elif hasattr(grid_search, 'decision_function'):\n",
    "        y_score = grid_search.decision_function(x_test)\n",
    "    else:\n",
    "        y_score = y_pred\n",
    "    predictions = {'y_pred': y_pred, 'y_score': y_score}\n",
    "    df_predictions = pd.DataFrame.from_dict(predictions)\n",
    "    return grid_search.best_estimator_, df_predictions, y_score"
   ]
  },
  {
   "cell_type": "markdown",
   "metadata": {},
   "source": [
    "### Models"
   ]
  },
  {
   "cell_type": "code",
   "execution_count": 188,
   "metadata": {
    "collapsed": true
   },
   "outputs": [],
   "source": [
    "lin_regr = linear_model.LinearRegression()                                         # linear regression\n",
    "lasso_regr = linear_model.Lasso(alpha=0.1)                                        # LASSO regression\n",
    "rd_regr = linear_model.Ridge(alpha=0.01)                                           # ridge regression\n",
    "dtr_regr = DecisionTreeRegressor(max_depth=7, random_state=123)                    # decision tree regression\n",
    "rf_regr = RandomForestRegressor(n_estimators = 50)                                # random forest regression\n",
    "list_reg_model_name = [(str(m).split('(')[0][0:10], m) for m in [lin_regr, lasso_regr, rd_regr, dtr_regr, rf_regr]]"
   ]
  },
  {
   "cell_type": "markdown",
   "metadata": {},
   "source": [
    "### Raw Data: Performance"
   ]
  },
  {
   "cell_type": "code",
   "execution_count": 175,
   "metadata": {},
   "outputs": [
    {
     "data": {
      "text/html": [
       "<div>\n",
       "<style>\n",
       "    .dataframe thead tr:only-child th {\n",
       "        text-align: right;\n",
       "    }\n",
       "\n",
       "    .dataframe thead th {\n",
       "        text-align: left;\n",
       "    }\n",
       "\n",
       "    .dataframe tbody tr th {\n",
       "        vertical-align: top;\n",
       "    }\n",
       "</style>\n",
       "<table border=\"1\" class=\"dataframe\">\n",
       "  <thead>\n",
       "    <tr style=\"text-align: right;\">\n",
       "      <th></th>\n",
       "      <th>LinearRegr</th>\n",
       "      <th>Lasso</th>\n",
       "      <th>Ridge</th>\n",
       "      <th>DecisionTr</th>\n",
       "      <th>RandomFore</th>\n",
       "    </tr>\n",
       "  </thead>\n",
       "  <tbody>\n",
       "    <tr>\n",
       "      <th>CV mean absolute error</th>\n",
       "      <td>47.568809</td>\n",
       "      <td>47.553084</td>\n",
       "      <td>47.562176</td>\n",
       "      <td>48.892844</td>\n",
       "      <td>47.617575</td>\n",
       "    </tr>\n",
       "    <tr>\n",
       "      <th>CV explained variance</th>\n",
       "      <td>0.482519</td>\n",
       "      <td>0.482773</td>\n",
       "      <td>0.482606</td>\n",
       "      <td>0.452275</td>\n",
       "      <td>0.488703</td>\n",
       "    </tr>\n",
       "    <tr>\n",
       "      <th>CV r2 score</th>\n",
       "      <td>0.434779</td>\n",
       "      <td>0.434967</td>\n",
       "      <td>0.434836</td>\n",
       "      <td>0.401211</td>\n",
       "      <td>0.437090</td>\n",
       "    </tr>\n",
       "    <tr>\n",
       "      <th>CV root mean squared error</th>\n",
       "      <td>60.376919</td>\n",
       "      <td>60.370614</td>\n",
       "      <td>60.374442</td>\n",
       "      <td>62.164313</td>\n",
       "      <td>60.317257</td>\n",
       "    </tr>\n",
       "  </tbody>\n",
       "</table>\n",
       "</div>"
      ],
      "text/plain": [
       "                            LinearRegr      Lasso      Ridge  DecisionTr  \\\n",
       "CV mean absolute error       47.568809  47.553084  47.562176   48.892844   \n",
       "CV explained variance         0.482519   0.482773   0.482606    0.452275   \n",
       "CV r2 score                   0.434779   0.434967   0.434836    0.401211   \n",
       "CV root mean squared error   60.376919  60.370614  60.374442   62.164313   \n",
       "\n",
       "                            RandomFore  \n",
       "CV mean absolute error       47.617575  \n",
       "CV explained variance         0.488703  \n",
       "CV r2 score                   0.437090  \n",
       "CV root mean squared error   60.317257  "
      ]
     },
     "execution_count": 175,
     "metadata": {},
     "output_type": "execute_result"
    }
   ],
   "source": [
    "# Note: due to random forest, this running is pretty slow\n",
    "\n",
    "newDF = pd.DataFrame()\n",
    "for name, model in list_reg_model_name:\n",
    "    newDF = pd.concat([newDF, get_regression_metrics(name, model, X_train_d, Y_train_d, X_test_d, Y_test_d)], axis=1)\n",
    "newDF"
   ]
  },
  {
   "cell_type": "code",
   "execution_count": 85,
   "metadata": {},
   "outputs": [
    {
     "data": {
      "image/png": "[encoded data removed]",
      "text/plain": [
       "<matplotlib.figure.Figure at 0x28cd1d69a90>"
      ]
     },
     "metadata": {},
     "output_type": "display_data"
    },
    {
     "data": {
      "image/png": "[encoded data removed]",
      "text/plain": [
       "<matplotlib.figure.Figure at 0x28cd1d0a1d0>"
      ]
     },
     "metadata": {},
     "output_type": "display_data"
    },
    {
     "data": {
      "image/png": "[encoded data removed]",
      "text/plain": [
       "<matplotlib.figure.Figure at 0x28cd1ad8908>"
      ]
     },
     "metadata": {},
     "output_type": "display_data"
    },
    {
     "data": {
      "image/png": "[encoded data removed]",
      "text/plain": [
       "<matplotlib.figure.Figure at 0x28cd1f0cb70>"
      ]
     },
     "metadata": {},
     "output_type": "display_data"
    },
    {
     "data": {
      "image/png": "[encoded data removed]",
      "text/plain": [
       "<matplotlib.figure.Figure at 0x28cd1d187f0>"
      ]
     },
     "metadata": {},
     "output_type": "display_data"
    },
    {
     "data": {
      "text/plain": [
       "[None, None, None, None, None]"
      ]
     },
     "execution_count": 85,
     "metadata": {},
     "output_type": "execute_result"
    }
   ],
   "source": [
    "# Feature importance or coefficiency\n",
    "\n",
    "[plot_feature_importance(name, model, X_train_d, Y_train_d) for name, model in list_reg_model_name]"
   ]
  },
  {
   "cell_type": "markdown",
   "metadata": {},
   "source": [
    "### Rolling Average Data: Performance"
   ]
  },
  {
   "cell_type": "code",
   "execution_count": 191,
   "metadata": {},
   "outputs": [
    {
     "data": {
      "text/html": [
       "<table style=\"display:inline\" border=\"1\" class=\"dataframe\">\n",
       "  <thead>\n",
       "    <tr style=\"text-align: right;\">\n",
       "      <th></th>\n",
       "      <th>LinearRegr</th>\n",
       "      <th>Lasso</th>\n",
       "      <th>Ridge</th>\n",
       "      <th>DecisionTr</th>\n",
       "      <th>RandomFore</th>\n",
       "    </tr>\n",
       "  </thead>\n",
       "  <tbody>\n",
       "    <tr>\n",
       "      <th>CV mean absolute error</th>\n",
       "      <td>47.568809</td>\n",
       "      <td>47.553084</td>\n",
       "      <td>47.562176</td>\n",
       "      <td>48.892844</td>\n",
       "      <td>47.617575</td>\n",
       "    </tr>\n",
       "    <tr>\n",
       "      <th>CV explained variance</th>\n",
       "      <td>0.482519</td>\n",
       "      <td>0.482773</td>\n",
       "      <td>0.482606</td>\n",
       "      <td>0.452275</td>\n",
       "      <td>0.488703</td>\n",
       "    </tr>\n",
       "    <tr>\n",
       "      <th>CV r2 score</th>\n",
       "      <td>0.434779</td>\n",
       "      <td>0.434967</td>\n",
       "      <td>0.434836</td>\n",
       "      <td>0.401211</td>\n",
       "      <td>0.437090</td>\n",
       "    </tr>\n",
       "    <tr>\n",
       "      <th>CV root mean squared error</th>\n",
       "      <td>60.376919</td>\n",
       "      <td>60.370614</td>\n",
       "      <td>60.374442</td>\n",
       "      <td>62.164313</td>\n",
       "      <td>60.317257</td>\n",
       "    </tr>\n",
       "  </tbody>\n",
       "</table style=\"display:inline\"><table style=\"display:inline\" border=\"1\" class=\"dataframe\">\n",
       "  <thead>\n",
       "    <tr style=\"text-align: right;\">\n",
       "      <th></th>\n",
       "      <th>LinearRegr</th>\n",
       "      <th>Lasso</th>\n",
       "      <th>Ridge</th>\n",
       "      <th>DecisionTr</th>\n",
       "      <th>RandomFore</th>\n",
       "    </tr>\n",
       "  </thead>\n",
       "  <tbody>\n",
       "    <tr>\n",
       "      <th>CV mean absolute error</th>\n",
       "      <td>47.260862</td>\n",
       "      <td>47.500155</td>\n",
       "      <td>47.205559</td>\n",
       "      <td>50.811148</td>\n",
       "      <td>50.498009</td>\n",
       "    </tr>\n",
       "    <tr>\n",
       "      <th>CV explained variance</th>\n",
       "      <td>0.489431</td>\n",
       "      <td>0.484695</td>\n",
       "      <td>0.490328</td>\n",
       "      <td>0.400980</td>\n",
       "      <td>0.424225</td>\n",
       "    </tr>\n",
       "    <tr>\n",
       "      <th>CV r2 score</th>\n",
       "      <td>0.441840</td>\n",
       "      <td>0.436893</td>\n",
       "      <td>0.442741</td>\n",
       "      <td>0.346745</td>\n",
       "      <td>0.365550</td>\n",
       "    </tr>\n",
       "    <tr>\n",
       "      <th>CV root mean squared error</th>\n",
       "      <td>59.989785</td>\n",
       "      <td>60.261216</td>\n",
       "      <td>59.944044</td>\n",
       "      <td>64.497581</td>\n",
       "      <td>63.934477</td>\n",
       "    </tr>\n",
       "  </tbody>\n",
       "</table style=\"display:inline\">"
      ]
     },
     "metadata": {},
     "output_type": "display_data"
    }
   ],
   "source": [
    "# rolling window = 10\n",
    "\n",
    "newDF_r = pd.DataFrame()\n",
    "for name, model in list_reg_model_name:\n",
    "    newDF_r = pd.concat([newDF_r, get_regression_metrics(name, model, X_train_r, Y_train_r, X_test_r, Y_test_r)], axis=1)\n",
    "newDF_r"
   ]
  },
  {
   "cell_type": "markdown",
   "metadata": {},
   "source": [
    "### Normalization + Rolling: Performance"
   ]
  },
  {
   "cell_type": "code",
   "execution_count": 193,
   "metadata": {},
   "outputs": [
    {
     "data": {
      "text/html": [
       "<div>\n",
       "<style>\n",
       "    .dataframe thead tr:only-child th {\n",
       "        text-align: right;\n",
       "    }\n",
       "\n",
       "    .dataframe thead th {\n",
       "        text-align: left;\n",
       "    }\n",
       "\n",
       "    .dataframe tbody tr th {\n",
       "        vertical-align: top;\n",
       "    }\n",
       "</style>\n",
       "<table border=\"1\" class=\"dataframe\">\n",
       "  <thead>\n",
       "    <tr style=\"text-align: right;\">\n",
       "      <th></th>\n",
       "      <th>LinearRegr</th>\n",
       "      <th>Lasso</th>\n",
       "      <th>Ridge</th>\n",
       "      <th>DecisionTr</th>\n",
       "      <th>RandomFore</th>\n",
       "    </tr>\n",
       "  </thead>\n",
       "  <tbody>\n",
       "    <tr>\n",
       "      <th>CV mean absolute error</th>\n",
       "      <td>0.099497</td>\n",
       "      <td>0.139272</td>\n",
       "      <td>0.099495</td>\n",
       "      <td>0.106845</td>\n",
       "      <td>0.106272</td>\n",
       "    </tr>\n",
       "    <tr>\n",
       "      <th>CV explained variance</th>\n",
       "      <td>0.489431</td>\n",
       "      <td>0.000000</td>\n",
       "      <td>0.489448</td>\n",
       "      <td>0.403702</td>\n",
       "      <td>0.424891</td>\n",
       "    </tr>\n",
       "    <tr>\n",
       "      <th>CV r2 score</th>\n",
       "      <td>0.441840</td>\n",
       "      <td>-0.067552</td>\n",
       "      <td>0.441857</td>\n",
       "      <td>0.349200</td>\n",
       "      <td>0.368801</td>\n",
       "    </tr>\n",
       "    <tr>\n",
       "      <th>CV root mean squared error</th>\n",
       "      <td>0.126294</td>\n",
       "      <td>0.173507</td>\n",
       "      <td>0.126292</td>\n",
       "      <td>0.135594</td>\n",
       "      <td>0.134721</td>\n",
       "    </tr>\n",
       "  </tbody>\n",
       "</table>\n",
       "</div>"
      ],
      "text/plain": [
       "                            LinearRegr     Lasso     Ridge  DecisionTr  \\\n",
       "CV mean absolute error        0.099497  0.139272  0.099495    0.106845   \n",
       "CV explained variance         0.489431  0.000000  0.489448    0.403702   \n",
       "CV r2 score                   0.441840 -0.067552  0.441857    0.349200   \n",
       "CV root mean squared error    0.126294  0.173507  0.126292    0.135594   \n",
       "\n",
       "                            RandomFore  \n",
       "CV mean absolute error        0.106272  \n",
       "CV explained variance         0.424891  \n",
       "CV r2 score                   0.368801  \n",
       "CV root mean squared error    0.134721  "
      ]
     },
     "execution_count": 193,
     "metadata": {},
     "output_type": "execute_result"
    }
   ],
   "source": [
    "newDF_r_n = pd.DataFrame()\n",
    "for name, model in list_reg_model_name:\n",
    "    newDF_r_n = pd.concat([newDF_r_n, get_regression_metrics(name, model, X_train_r_n, Y_train_r_n, X_test_r_n, Y_test_r_n)], axis=1)\n",
    "newDF_r_n"
   ]
  },
  {
   "cell_type": "markdown",
   "metadata": {},
   "source": [
    "### Summary\n",
    "- The models perform very similarly under raw data\n",
    "- Noise removal (rolling average) helped Linear models but constrained Decision Tree models\n",
    "- Normalization cannot further help linear model; but see enhancmenet on Decision Tree models\n",
    "- Next Step: \n",
    "    - Plan to chose Linear Regression as BASELINE, since the data itself has linearity along timeseries\n",
    "    - Will chose Random Forest to adjust parameters for better performance "
   ]
  },
  {
   "cell_type": "markdown",
   "metadata": {},
   "source": [
    "## 3.2 Improvement Model"
   ]
  },
  {
   "cell_type": "markdown",
   "metadata": {},
   "source": [
    "### Random Forest"
   ]
  },
  {
   "cell_type": "code",
   "execution_count": 194,
   "metadata": {},
   "outputs": [
    {
     "data": {
      "text/plain": [
       "{'bootstrap': True,\n",
       " 'criterion': 'mse',\n",
       " 'max_depth': None,\n",
       " 'max_features': 'auto',\n",
       " 'max_leaf_nodes': None,\n",
       " 'min_impurity_decrease': 0.0,\n",
       " 'min_impurity_split': None,\n",
       " 'min_samples_leaf': 1,\n",
       " 'min_samples_split': 2,\n",
       " 'min_weight_fraction_leaf': 0.0,\n",
       " 'n_estimators': 50,\n",
       " 'n_jobs': 1,\n",
       " 'oob_score': False,\n",
       " 'random_state': None,\n",
       " 'verbose': 0,\n",
       " 'warm_start': False}"
      ]
     },
     "execution_count": 194,
     "metadata": {},
     "output_type": "execute_result"
    }
   ],
   "source": [
    "rf_regr.get_params()"
   ]
  },
  {
   "cell_type": "code",
   "execution_count": 195,
   "metadata": {},
   "outputs": [
    {
     "name": "stdout",
     "output_type": "stream",
     "text": [
      "best parameters:\n",
      " RandomForestRegressor(bootstrap=True, criterion='mse', max_depth=6,\n",
      "           max_features='auto', max_leaf_nodes=None,\n",
      "           min_impurity_decrease=0.0, min_impurity_split=None,\n",
      "           min_samples_leaf=20, min_samples_split=2,\n",
      "           min_weight_fraction_leaf=0.0, n_estimators=50, n_jobs=1,\n",
      "           oob_score=False, random_state=1, verbose=0, warm_start=False)\n"
     ]
    }
   ],
   "source": [
    "# Tune Randome Forest\n",
    "    \n",
    "clf_name = 'random forest'\n",
    "clf_rf = RandomForestRegressor(random_state=1, min_samples_split=2)\n",
    "# rf_param = {'n_estimators': [5,10,20,50], 'max_depth': [4,5,6]}\n",
    "\n",
    "rf_param = {\"n_estimators\": [5, 10, 20, 30, 50],\n",
    "              \"max_depth\": [3, 4, 5, 6, 7, 8],\n",
    "              \"min_samples_split\": [2, 3, 4, 5, 6, 7, 8],\n",
    "              \"min_samples_leaf\": [1, 2, 3, 5, 10, 20]    }\n",
    "rf_score = 'r2'\n",
    "clf_rf, Y_pred, Y_score = best_model(clf_name, clf_rf, X_train_r_n, Y_train_r_n, \n",
    "                                     X_test_r_n, params=rf_param, score=rf_score)\n",
    "print('best parameters:\\n', clf_rf)"
   ]
  },
  {
   "cell_type": "code",
   "execution_count": 221,
   "metadata": {},
   "outputs": [
    {
     "data": {
      "text/plain": [
       "RandomForestRegressor(bootstrap=True, criterion='mse', max_depth=6,\n",
       "           max_features='auto', max_leaf_nodes=None,\n",
       "           min_impurity_decrease=0.0, min_impurity_split=None,\n",
       "           min_samples_leaf=20, min_samples_split=2,\n",
       "           min_weight_fraction_leaf=0.0, n_estimators=50, n_jobs=1,\n",
       "           oob_score=False, random_state=1, verbose=0, warm_start=False)"
      ]
     },
     "execution_count": 221,
     "metadata": {},
     "output_type": "execute_result"
    }
   ],
   "source": [
    "clf_rf_fine = RandomForestRegressor(bootstrap=True, criterion='mse', max_depth=6,\n",
    "           max_features='auto', max_leaf_nodes=None,\n",
    "           min_impurity_decrease=0.0, min_impurity_split=None,\n",
    "           min_samples_leaf=20, min_samples_split=2,\n",
    "           min_weight_fraction_leaf=0.0, n_estimators=50, n_jobs=1,\n",
    "           oob_score=False, random_state=1, verbose=0, warm_start=False)\n",
    "clf_rf_fine.fit(X_train_r_n, Y_train_r_n)"
   ]
  },
  {
   "cell_type": "code",
   "execution_count": 222,
   "metadata": {},
   "outputs": [
    {
     "name": "stdout",
     "output_type": "stream",
     "text": [
      "Forest forecast accuracy : 0.43 (+/- 0.24)\n"
     ]
    }
   ],
   "source": [
    "scores_rf_fine = cross_val_score(clf_rf_fine, X_train_r_n, Y_train_r_n, cv = 5)\n",
    "print(\"Forest forecast accuracy : %0.2f (+/- %0.2f)\" % (scores_rf_fine.mean(), scores_rf_fine.std()*2))"
   ]
  },
  {
   "cell_type": "markdown",
   "metadata": {},
   "source": [
    "### Ridge Regression"
   ]
  },
  {
   "cell_type": "code",
   "execution_count": 209,
   "metadata": {},
   "outputs": [
    {
     "data": {
      "text/plain": [
       "{'alpha': 0.01,\n",
       " 'copy_X': True,\n",
       " 'fit_intercept': True,\n",
       " 'max_iter': None,\n",
       " 'normalize': False,\n",
       " 'random_state': None,\n",
       " 'solver': 'auto',\n",
       " 'tol': 0.001}"
      ]
     },
     "execution_count": 209,
     "metadata": {},
     "output_type": "execute_result"
    }
   ],
   "source": [
    "rd_regr.get_params()"
   ]
  },
  {
   "cell_type": "code",
   "execution_count": 211,
   "metadata": {},
   "outputs": [
    {
     "name": "stdout",
     "output_type": "stream",
     "text": [
      "best parameters:\n",
      " Ridge(alpha=60, copy_X=True, fit_intercept=True, max_iter=None,\n",
      "   normalize=False, random_state=None, solver='auto', tol=0.001)\n"
     ]
    }
   ],
   "source": [
    "# Tune Randome Forest\n",
    "    \n",
    "clf_name = 'ridge regression'\n",
    "clf_rg = linear_model.Ridge(alpha=0.01) \n",
    "rg_param = {'alpha': [1e-15, 1e-10, 1e-8, 1e-4, 1e-3,1e-2, 1, 5, 10, 20, 40, 60, 100]}\n",
    "\n",
    "rg_score = 'r2'\n",
    "clf_rg, Y_pred, Y_score = best_model(clf_name, clf_rg, X_train_r_n, Y_train_r_n, \n",
    "                                     X_test_r_n, params=rg_param, score=rg_score)\n",
    "print('best parameters:\\n', clf_rg)"
   ]
  },
  {
   "cell_type": "code",
   "execution_count": 215,
   "metadata": {},
   "outputs": [
    {
     "data": {
      "text/plain": [
       "Ridge(alpha=60, copy_X=True, fit_intercept=True, max_iter=None,\n",
       "   normalize=False, random_state=None, solver='auto', tol=0.001)"
      ]
     },
     "execution_count": 215,
     "metadata": {},
     "output_type": "execute_result"
    }
   ],
   "source": [
    "clf_rg_fine = linear_model.Ridge(alpha=60, copy_X=True, fit_intercept=True, max_iter=None,\n",
    "   normalize=False, random_state=None, solver='auto', tol=0.001)\n",
    "clf_rg_fine.fit(X_train_r_n, Y_train_r_n)"
   ]
  },
  {
   "cell_type": "code",
   "execution_count": 216,
   "metadata": {},
   "outputs": [
    {
     "name": "stdout",
     "output_type": "stream",
     "text": [
      "Ridge accuracy : 0.44 (+/- 0.25)\n"
     ]
    }
   ],
   "source": [
    "scores_rg_fine = cross_val_score(clf_rg_fine, X_train_r_n, Y_train_r_n, cv = 5)\n",
    "print(\"Ridge accuracy : %0.2f (+/- %0.2f)\" % (scores_rg_fine.mean(), scores_rg_fine.std()*2))"
   ]
  },
  {
   "cell_type": "markdown",
   "metadata": {},
   "source": [
    "### Deep Learning "
   ]
  },
  {
   "cell_type": "code",
   "execution_count": null,
   "metadata": {
    "collapsed": true
   },
   "outputs": [],
   "source": []
  },
  {
   "cell_type": "code",
   "execution_count": null,
   "metadata": {
    "collapsed": true
   },
   "outputs": [],
   "source": []
  },
  {
   "cell_type": "code",
   "execution_count": null,
   "metadata": {
    "collapsed": true
   },
   "outputs": [],
   "source": []
  },
  {
   "cell_type": "code",
   "execution_count": null,
   "metadata": {
    "collapsed": true
   },
   "outputs": [],
   "source": []
  },
  {
   "cell_type": "code",
   "execution_count": null,
   "metadata": {
    "collapsed": true
   },
   "outputs": [],
   "source": []
  },
  {
   "cell_type": "code",
   "execution_count": null,
   "metadata": {
    "collapsed": true
   },
   "outputs": [],
   "source": []
  },
  {
   "cell_type": "code",
   "execution_count": null,
   "metadata": {
    "collapsed": true
   },
   "outputs": [],
   "source": []
  },
  {
   "cell_type": "code",
   "execution_count": 340,
   "metadata": {
    "collapsed": true
   },
   "outputs": [],
   "source": [
    "# prepare data sequence for RNN\n",
    "\n",
    "sequence_length = 20\n",
    "\n",
    "def gen_sequence(id_df, seq_length, seq_cols):\n",
    "    data_matrix = id_df[seq_cols].values         # matrix of selected features\n",
    "    num_elements = data_matrix.shape[0]          # rows\n",
    "    for start, stop in zip(range(0, num_elements - seq_length), range(seq_length, num_elements)):\n",
    "        yield data_matrix[start:stop, :]"
   ]
  },
  {
   "cell_type": "code",
   "execution_count": 341,
   "metadata": {},
   "outputs": [
    {
     "name": "stdout",
     "output_type": "stream",
     "text": [
      "(172, 20, 16)\n"
     ]
    }
   ],
   "source": [
    "# separate 192 lines data into 182 fleest\n",
    "# fleet 1 = train_d.iloc[0:10, :], fleets = train_d.iloc[1:11, :], so as to build a 3d data sets\n",
    "# dimension 1 = fleet 1 - 182; dimension 2 = train_d[i, i+10]; dimension 3 = features\n",
    "\n",
    "sequence_cols = X_train_r_n.columns\n",
    "val=list(gen_sequence(train_r_n[train_r_n['id']==1], sequence_length, sequence_cols))\n",
    "print(np.shape(val))"
   ]
  },
  {
   "cell_type": "code",
   "execution_count": 342,
   "metadata": {},
   "outputs": [
    {
     "name": "stdout",
     "output_type": "stream",
     "text": [
      "(18631, 20, 16)\n"
     ]
    }
   ],
   "source": [
    "# genearte training sets (X)\n",
    "\n",
    "seq_gen = (list(gen_sequence(train_r_n[train_r_n['id']==id], sequence_length, sequence_cols)) for id in train_r_n['id'].unique())\n",
    "seq_array = np.concatenate(list(seq_gen)).astype(np.float32)    # mask if run below line, generator only run once then disapeear\n",
    "print(seq_array.shape)                                          # mask if run below line, generator only run once then disapeear"
   ]
  },
  {
   "cell_type": "code",
   "execution_count": 343,
   "metadata": {},
   "outputs": [],
   "source": [
    "# this is only to show the dimensions of the se_gen (but generate exhausted data after just one running)\n",
    "for i,j in zip(seq_gen,range(5)): print(np.shape(i))"
   ]
  },
  {
   "cell_type": "code",
   "execution_count": 344,
   "metadata": {
    "collapsed": true
   },
   "outputs": [],
   "source": [
    "# generate labels\n",
    "\n",
    "def gen_labels(id_df, seq_length, label):\n",
    "    data_matrix = id_df[label].values\n",
    "    num_elements = data_matrix.shape[0]\n",
    "    return data_matrix[sequence_length:num_elements, :]"
   ]
  },
  {
   "cell_type": "code",
   "execution_count": 345,
   "metadata": {},
   "outputs": [
    {
     "name": "stdout",
     "output_type": "stream",
     "text": [
      "(18631, 1)\n"
     ]
    }
   ],
   "source": [
    "# training label (Y)\n",
    "\n",
    "label_gen = [gen_labels(train_r_n[train_r_n['id']==id], sequence_length, ['rul']) for id in train_r_n['id'].unique()]\n",
    "label_array = np.concatenate(label_gen).astype(np.float32)\n",
    "print(label_array.shape)"
   ]
  },
  {
   "cell_type": "code",
   "execution_count": 346,
   "metadata": {},
   "outputs": [],
   "source": [
    "import keras\n",
    "import keras.backend as K\n",
    "from keras.layers.core import Activation\n",
    "from keras.models import Sequential,load_model\n",
    "from keras.layers import Dense, Dropout, LSTM\n",
    "\n",
    "from sklearn import preprocessing\n",
    "\n",
    "# Setting seed for reproducibility\n",
    "np.random.seed(1234)  \n",
    "PYTHONHASHSEED = 0\n",
    "\n",
    "# define path to save model\n",
    "model_path = 'regression_model.h5'"
   ]
  },
  {
   "cell_type": "code",
   "execution_count": 348,
   "metadata": {},
   "outputs": [
    {
     "name": "stdout",
     "output_type": "stream",
     "text": [
      "_________________________________________________________________\n",
      "Layer (type)                 Output Shape              Param #   \n",
      "=================================================================\n",
      "lstm_13 (LSTM)               (None, 20, 100)           46800     \n",
      "_________________________________________________________________\n",
      "dropout_13 (Dropout)         (None, 20, 100)           0         \n",
      "_________________________________________________________________\n",
      "lstm_14 (LSTM)               (None, 50)                30200     \n",
      "_________________________________________________________________\n",
      "dropout_14 (Dropout)         (None, 50)                0         \n",
      "_________________________________________________________________\n",
      "dense_7 (Dense)              (None, 1)                 51        \n",
      "_________________________________________________________________\n",
      "activation_7 (Activation)    (None, 1)                 0         \n",
      "=================================================================\n",
      "Total params: 77,051\n",
      "Trainable params: 77,051\n",
      "Non-trainable params: 0\n",
      "_________________________________________________________________\n",
      "None\n",
      "Train on 17699 samples, validate on 932 samples\n",
      "Epoch 1/100\n",
      " - 10s - loss: 0.0242 - mean_absolute_error: 0.1178 - r2_keras: 0.0523 - val_loss: 0.0205 - val_mean_absolute_error: 0.1202 - val_r2_keras: -1.0313e+00\n",
      "Epoch 2/100\n",
      " - 7s - loss: 0.0165 - mean_absolute_error: 0.1006 - r2_keras: 0.3701 - val_loss: 0.0219 - val_mean_absolute_error: 0.1317 - val_r2_keras: -1.4753e+00\n",
      "Epoch 3/100\n",
      " - 7s - loss: 0.0157 - mean_absolute_error: 0.0983 - r2_keras: 0.3994 - val_loss: 0.0190 - val_mean_absolute_error: 0.1106 - val_r2_keras: -7.6603e-01\n",
      "Epoch 4/100\n",
      " - 7s - loss: 0.0154 - mean_absolute_error: 0.0972 - r2_keras: 0.4110 - val_loss: 0.0181 - val_mean_absolute_error: 0.1174 - val_r2_keras: -9.1411e-01\n",
      "Epoch 5/100\n",
      " - 7s - loss: 0.0147 - mean_absolute_error: 0.0952 - r2_keras: 0.4370 - val_loss: 0.0176 - val_mean_absolute_error: 0.1151 - val_r2_keras: -8.5564e-01\n",
      "Epoch 6/100\n",
      " - 7s - loss: 0.0142 - mean_absolute_error: 0.0937 - r2_keras: 0.4556 - val_loss: 0.0174 - val_mean_absolute_error: 0.1074 - val_r2_keras: -6.7149e-01\n",
      "Epoch 7/100\n",
      " - 7s - loss: 0.0140 - mean_absolute_error: 0.0929 - r2_keras: 0.4648 - val_loss: 0.0178 - val_mean_absolute_error: 0.1111 - val_r2_keras: -7.5775e-01\n",
      "Epoch 8/100\n",
      " - 8s - loss: 0.0137 - mean_absolute_error: 0.0919 - r2_keras: 0.4743 - val_loss: 0.0181 - val_mean_absolute_error: 0.1131 - val_r2_keras: -8.1437e-01\n",
      "Epoch 9/100\n",
      " - 7s - loss: 0.0135 - mean_absolute_error: 0.0908 - r2_keras: 0.4852 - val_loss: 0.0260 - val_mean_absolute_error: 0.1213 - val_r2_keras: -1.3307e+00\n",
      "Epoch 10/100\n",
      " - 7s - loss: 0.0134 - mean_absolute_error: 0.0904 - r2_keras: 0.4874 - val_loss: 0.0181 - val_mean_absolute_error: 0.1163 - val_r2_keras: -9.7383e-01\n",
      "Epoch 11/100\n",
      " - 7s - loss: 0.0132 - mean_absolute_error: 0.0902 - r2_keras: 0.4961 - val_loss: 0.0204 - val_mean_absolute_error: 0.1116 - val_r2_keras: -8.6633e-01\n",
      "Epoch 12/100\n",
      " - 7s - loss: 0.0131 - mean_absolute_error: 0.0897 - r2_keras: 0.4998 - val_loss: 0.0185 - val_mean_absolute_error: 0.1090 - val_r2_keras: -7.3885e-01\n",
      "Epoch 13/100\n",
      " - 7s - loss: 0.0130 - mean_absolute_error: 0.0893 - r2_keras: 0.5036 - val_loss: 0.0179 - val_mean_absolute_error: 0.1114 - val_r2_keras: -7.5474e-01\n",
      "Epoch 14/100\n",
      " - 6s - loss: 0.0129 - mean_absolute_error: 0.0890 - r2_keras: 0.5060 - val_loss: 0.0210 - val_mean_absolute_error: 0.1118 - val_r2_keras: -9.7251e-01\n",
      "Epoch 15/100\n",
      " - 7s - loss: 0.0128 - mean_absolute_error: 0.0886 - r2_keras: 0.5122 - val_loss: 0.0187 - val_mean_absolute_error: 0.1104 - val_r2_keras: -7.4601e-01\n",
      "Epoch 16/100\n",
      " - 7s - loss: 0.0127 - mean_absolute_error: 0.0886 - r2_keras: 0.5155 - val_loss: 0.0176 - val_mean_absolute_error: 0.1097 - val_r2_keras: -7.8323e-01\n",
      "dict_keys(['val_loss', 'loss', 'mean_absolute_error', 'val_r2_keras', 'r2_keras', 'val_mean_absolute_error'])\n"
     ]
    }
   ],
   "source": [
    "def r2_keras(y_true, y_pred):\n",
    "    \"\"\"Coefficient of Determination \n",
    "    \"\"\"\n",
    "    SS_res =  K.sum(K.square( y_true - y_pred ))\n",
    "    SS_tot = K.sum(K.square( y_true - K.mean(y_true) ) )\n",
    "    return ( 1 - SS_res/(SS_tot + K.epsilon()) )\n",
    "\n",
    "# Next, we build a deep network. \n",
    "# The first layer is an LSTM layer with 100 units followed by another LSTM layer with 50 units. \n",
    "# Dropout is also applied after each LSTM layer to control overfitting. \n",
    "# Final layer is a Dense output layer with single unit and linear activation since this is a regression problem.\n",
    "nb_features = seq_array.shape[2]\n",
    "nb_out = label_array.shape[1]\n",
    "\n",
    "model = Sequential()\n",
    "model.add(LSTM(input_shape=(sequence_length, nb_features), units=100, return_sequences=True))\n",
    "model.add(Dropout(0.2))\n",
    "model.add(LSTM(units=50, return_sequences=False))\n",
    "model.add(Dropout(0.2))\n",
    "model.add(Dense(units=nb_out))\n",
    "model.add(Activation(\"linear\"))\n",
    "model.compile(loss='mean_squared_error', optimizer='rmsprop',metrics=['mae',r2_keras])\n",
    "\n",
    "print(model.summary())\n",
    "\n",
    "# fit the network\n",
    "history = model.fit(seq_array, label_array, epochs=100, batch_size=200, validation_split=0.05, verbose=2,\n",
    "          callbacks = [keras.callbacks.EarlyStopping(monitor='val_loss', min_delta=0, patience=10, verbose=0, mode='min'),\n",
    "                       keras.callbacks.ModelCheckpoint(model_path,monitor='val_loss', save_best_only=True, mode='min', verbose=0)]\n",
    "          )\n",
    "\n",
    "# list all data in history\n",
    "print(history.history.keys())"
   ]
  },
  {
   "cell_type": "code",
   "execution_count": null,
   "metadata": {
    "collapsed": true
   },
   "outputs": [],
   "source": []
  },
  {
   "cell_type": "code",
   "execution_count": null,
   "metadata": {},
   "outputs": [],
   "source": []
  },
  {
   "cell_type": "code",
   "execution_count": null,
   "metadata": {
    "collapsed": true
   },
   "outputs": [],
   "source": []
  },
  {
   "cell_type": "code",
   "execution_count": null,
   "metadata": {
    "collapsed": true
   },
   "outputs": [],
   "source": []
  },
  {
   "cell_type": "code",
   "execution_count": null,
   "metadata": {},
   "outputs": [],
   "source": []
  },
  {
   "cell_type": "code",
   "execution_count": null,
   "metadata": {},
   "outputs": [],
   "source": []
  },
  {
   "cell_type": "code",
   "execution_count": null,
   "metadata": {
    "collapsed": true
   },
   "outputs": [],
   "source": []
  },
  {
   "cell_type": "code",
   "execution_count": null,
   "metadata": {
    "collapsed": true
   },
   "outputs": [],
   "source": []
  },
  {
   "cell_type": "code",
   "execution_count": null,
   "metadata": {
    "collapsed": true
   },
   "outputs": [],
   "source": []
  }
 ],
 "metadata": {
  "kernelspec": {
   "display_name": "Python 3",
   "language": "python",
   "name": "python3"
  },
  "language_info": {
   "codemirror_mode": {
    "name": "ipython",
    "version": 3
   },
   "file_extension": ".py",
   "mimetype": "text/x-python",
   "name": "python",
   "nbconvert_exporter": "python",
   "pygments_lexer": "ipython3",
   "version": "3.5.3"
  }
 },
 "nbformat": 4,
 "nbformat_minor": 2
}
